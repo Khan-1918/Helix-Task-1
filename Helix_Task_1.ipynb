{
  "nbformat": 4,
  "nbformat_minor": 0,
  "metadata": {
    "colab": {
      "provenance": []
    },
    "kernelspec": {
      "name": "python3",
      "display_name": "Python 3"
    },
    "language_info": {
      "name": "python"
    }
  },
  "cells": [
    {
      "cell_type": "markdown",
      "source": [
        "# Mounted Google Drive"
      ],
      "metadata": {
        "id": "TpSd5wd_U_8h"
      }
    },
    {
      "cell_type": "code",
      "execution_count": null,
      "metadata": {
        "colab": {
          "base_uri": "https://localhost:8080/"
        },
        "id": "v_3a6LtUgpxI",
        "outputId": "df36cc07-43e8-4217-a5c7-a3594b0a3153"
      },
      "outputs": [
        {
          "output_type": "stream",
          "name": "stdout",
          "text": [
            "Drive already mounted at /content/drive; to attempt to forcibly remount, call drive.mount(\"/content/drive\", force_remount=True).\n"
          ]
        }
      ],
      "source": [
        "from google.colab import drive\n",
        "drive.mount('/content/drive')"
      ]
    },
    {
      "cell_type": "markdown",
      "source": [
        "# Code; Reading Bad Images,Format,dimensions"
      ],
      "metadata": {
        "id": "UNNUQt5dVGf9"
      }
    },
    {
      "cell_type": "code",
      "source": [
        "import os\n",
        "import cv2  # or Pillow, Matplotlib\n",
        "\n",
        "# Path to the directory containing images\n",
        "image_dir = '/content/drive/MyDrive/Helix jpg bad Images'\n",
        "\n",
        "# Iterate through all files in the directory\n",
        "for filename in os.listdir(image_dir):\n",
        "    file_path = os.path.join(image_dir, filename)  # Full path to the image\n",
        "    if filename.endswith(('.jpg', '.jpeg', '.png')):  # Check for image file extensions\n",
        "        # Read the image\n",
        "        image = cv2.imread(file_path)\n",
        "        if image is not None:\n",
        "            print(f\"Processed: {filename}, Dimensions: {image.shape}\")\n",
        "        else:\n",
        "            print(f\"Failed to read: {filename}\")\n"
      ],
      "metadata": {
        "colab": {
          "base_uri": "https://localhost:8080/"
        },
        "id": "Bt6u4qFryQNZ",
        "outputId": "d08eb0c5-f90a-42f6-a419-5b36f3fbbd25"
      },
      "execution_count": null,
      "outputs": [
        {
          "output_type": "stream",
          "name": "stdout",
          "text": [
            "Processed: 05.jpg, Dimensions: (4032, 3024, 3)\n",
            "Processed: 07 434357cb6af5d1e4951ea5306ed9181731c330a9.jpg, Dimensions: (2048, 1536, 3)\n",
            "Processed: 06.jpg, Dimensions: (1008, 756, 3)\n",
            "Processed: 09 cc7d2c3c36bcc9696f1a732b1559ffffc1862f53.jpg, Dimensions: (2048, 1536, 3)\n",
            "Processed: 02.jpg, Dimensions: (4000, 3000, 3)\n",
            "Processed: 1005.jpg, Dimensions: (2048, 1536, 3)\n",
            "Processed: 1007.jpg, Dimensions: (2048, 1536, 3)\n",
            "Processed: 1004.jpg, Dimensions: (2048, 1536, 3)\n",
            "Processed: 09.jpg, Dimensions: (772, 579, 3)\n",
            "Processed: 10.jpg, Dimensions: (756, 1008, 3)\n",
            "Processed: 1006.jpg, Dimensions: (1792, 828, 3)\n",
            "Processed: 1002.jpg, Dimensions: (750, 1035, 3)\n",
            "Processed: 1035.jpg, Dimensions: (2048, 1536, 3)\n",
            "Processed: 1011.jpg, Dimensions: (2048, 1536, 3)\n",
            "Processed: 1044.jpg, Dimensions: (2048, 1536, 3)\n",
            "Processed: 1042.jpg, Dimensions: (1536, 2048, 3)\n",
            "Processed: 1033.jpg, Dimensions: (2048, 1536, 3)\n",
            "Processed: 1052.jpg, Dimensions: (1536, 2048, 3)\n",
            "Processed: 1049.jpg, Dimensions: (500, 690, 3)\n",
            "Processed: 1031.jpg, Dimensions: (2048, 1536, 3)\n",
            "Processed: 1032.jpg, Dimensions: (2048, 1536, 3)\n",
            "Processed: 1015.jpg, Dimensions: (2048, 1536, 3)\n",
            "Processed: 1034.jpg, Dimensions: (2048, 1536, 3)\n",
            "Processed: 1017.jpg, Dimensions: (2048, 1536, 3)\n",
            "Processed: 1008.jpg, Dimensions: (2048, 1536, 3)\n",
            "Processed: 1051.jpg, Dimensions: (2048, 1536, 3)\n",
            "Processed: 1012.jpg, Dimensions: (2048, 1536, 3)\n",
            "Processed: 1053.jpg, Dimensions: (2048, 1536, 3)\n",
            "Processed: 1018.jpg, Dimensions: (2048, 1536, 3)\n",
            "Processed: 1046.jpg, Dimensions: (2048, 1536, 3)\n"
          ]
        }
      ]
    },
    {
      "cell_type": "markdown",
      "source": [
        "# Code;Segragating Good Images from Bad Images"
      ],
      "metadata": {
        "id": "4mHB2a2pVUap"
      }
    },
    {
      "cell_type": "code",
      "source": [
        "import os\n",
        "import cv2\n",
        "import shutil\n",
        "\n",
        "# Path to the directory containing images\n",
        "image_dir = '/content/drive/MyDrive/Helix jpg bad Images'\n",
        "\n",
        "# Output directory for good images\n",
        "good_images_dir = '/content/drive/MyDrive/sgd Images'\n",
        "\n",
        "# Create the output directory if it doesn't exist\n",
        "os.makedirs(good_images_dir, exist_ok=True)\n",
        "\n",
        "# Criteria for classification\n",
        "GOOD_DIMENSION_THRESHOLD = 1000  # Minimum width or height\n",
        "GOOD_BRIGHTNESS_THRESHOLD = 50   # Mean brightness threshold\n",
        "\n",
        "# Initialize counter for good images\n",
        "good_image_count = 0\n",
        "\n",
        "def is_image_good(image):\n",
        "    \"\"\"\n",
        "    Determine if an image is 'good' based on brightness and dimensions.\n",
        "    Returns True if the image is 'good', False otherwise.\n",
        "    \"\"\"\n",
        "    height, width = image.shape[:2]\n",
        "    # Check dimensions\n",
        "    if height < GOOD_DIMENSION_THRESHOLD or width < GOOD_DIMENSION_THRESHOLD:\n",
        "        return False\n",
        "\n",
        "    # Calculate average brightness\n",
        "    mean_brightness = cv2.mean(image)[:3]\n",
        "    avg_brightness = sum(mean_brightness) / 3\n",
        "    if avg_brightness < GOOD_BRIGHTNESS_THRESHOLD:\n",
        "        return False\n",
        "\n",
        "    return True\n",
        "\n",
        "# Process each image in the directory\n",
        "for filename in os.listdir(image_dir):\n",
        "    file_path = os.path.join(image_dir, filename)\n",
        "\n",
        "    if filename.lower().endswith(('.jpg')):\n",
        "        # Read the image\n",
        "        image = cv2.imread(file_path)\n",
        "        if image is not None:\n",
        "            # Check if the image is 'good'\n",
        "            if is_image_good(image):\n",
        "                # Move to good images directory\n",
        "                shutil.copy(file_path, good_images_dir)\n",
        "                good_image_count += 1\n",
        "                print(f\"Moved to Good Images: {filename}\")\n",
        "        else:\n",
        "            print(f\"Failed to read: {filename}\")\n",
        "\n",
        "# Print summary\n",
        "print(\"\\nProcessing Complete!\")\n",
        "print(f\"Number of good images: {good_image_count}\")\n",
        "print(f\"Good images saved in: {good_images_dir}\")\n"
      ],
      "metadata": {
        "colab": {
          "base_uri": "https://localhost:8080/"
        },
        "id": "7WHqIu4IRMQ_",
        "outputId": "1d157947-e876-48b2-aa8a-ecf490deef59"
      },
      "execution_count": null,
      "outputs": [
        {
          "output_type": "stream",
          "name": "stdout",
          "text": [
            "Moved to Good Images: 05.jpg\n",
            "Moved to Good Images: 07 434357cb6af5d1e4951ea5306ed9181731c330a9.jpg\n",
            "Moved to Good Images: 09 cc7d2c3c36bcc9696f1a732b1559ffffc1862f53.jpg\n",
            "Moved to Good Images: 02.jpg\n",
            "Moved to Good Images: 1005.jpg\n",
            "Moved to Good Images: 1007.jpg\n",
            "Moved to Good Images: 1004.jpg\n",
            "Moved to Good Images: 1035.jpg\n",
            "Moved to Good Images: 1011.jpg\n",
            "Moved to Good Images: 1044.jpg\n",
            "Moved to Good Images: 1042.jpg\n",
            "Moved to Good Images: 1033.jpg\n",
            "Moved to Good Images: 1052.jpg\n",
            "Moved to Good Images: 1031.jpg\n",
            "Moved to Good Images: 1032.jpg\n",
            "Moved to Good Images: 1015.jpg\n",
            "Moved to Good Images: 1034.jpg\n",
            "Moved to Good Images: 1017.jpg\n",
            "Moved to Good Images: 1008.jpg\n",
            "Moved to Good Images: 1051.jpg\n",
            "Moved to Good Images: 1012.jpg\n",
            "Moved to Good Images: 1053.jpg\n",
            "Moved to Good Images: 1018.jpg\n",
            "Moved to Good Images: 1046.jpg\n",
            "\n",
            "Processing Complete!\n",
            "Number of good images: 24\n",
            "Good images saved in: /content/drive/MyDrive/sgd Images\n"
          ]
        }
      ]
    }
  ]
}